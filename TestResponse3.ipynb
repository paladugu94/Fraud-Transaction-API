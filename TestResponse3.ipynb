{
 "cells": [
  {
   "cell_type": "code",
   "execution_count": 36,
   "id": "1229901e",
   "metadata": {},
   "outputs": [],
   "source": [
    "import requests\n",
    "r = requests.post('http://127.0.0.1:4444/is-fraud', \n",
    "                  json = {\"step\":1,\"type\":\"CASH_OUT\",\"amount\":9839.64,\"nameOrig\":\"C1231006815\",\"oldbalanceOrig\":170136.0,\"newbalanceOrig\":160296.36,\"nameDest\":\"M1979787155\",\"oldbalanceDest\":0.0,\"newbalanceDest\":0.0}\n",
    "                 )"
   ]
  },
  {
   "cell_type": "code",
   "execution_count": 37,
   "id": "0fdee3e2",
   "metadata": {},
   "outputs": [
    {
     "data": {
      "text/plain": [
       "{'isFraud': '[True]'}"
      ]
     },
     "execution_count": 37,
     "metadata": {},
     "output_type": "execute_result"
    }
   ],
   "source": [
    "r.json()"
   ]
  },
  {
   "cell_type": "code",
   "execution_count": null,
   "id": "33819878",
   "metadata": {},
   "outputs": [],
   "source": []
  }
 ],
 "metadata": {
  "kernelspec": {
   "display_name": "Python 3",
   "language": "python",
   "name": "python3"
  },
  "language_info": {
   "codemirror_mode": {
    "name": "ipython",
    "version": 3
   },
   "file_extension": ".py",
   "mimetype": "text/x-python",
   "name": "python",
   "nbconvert_exporter": "python",
   "pygments_lexer": "ipython3",
   "version": "3.7.3"
  }
 },
 "nbformat": 4,
 "nbformat_minor": 5
}
