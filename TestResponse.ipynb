{
 "cells": [
  {
   "cell_type": "code",
   "execution_count": 1,
   "id": "0faea7f0",
   "metadata": {},
   "outputs": [],
   "source": [
    "from time import sleep\n",
    "sleep(10)"
   ]
  },
  {
   "cell_type": "code",
   "execution_count": 2,
   "id": "5972c4dd",
   "metadata": {},
   "outputs": [],
   "source": [
    "import requests\n",
    "r = requests.post('http://127.0.0.1:12345/is-fraud', \n",
    "                  json = {\n",
    "                      \"step\":1,\n",
    "                      \"type\":\"TRANSFER\",\n",
    "                      \"amount\":9839.64,\n",
    "                      \"nameOrig\":\"C1231006815\",\n",
    "                      \"oldbalanceOrig\":170136.0,\n",
    "                      \"newbalanceOrig\":160296.36,\n",
    "                      \"nameDest\":\"M1979787155\",\n",
    "                      \"oldbalanceDest\":0.0,\n",
    "                      \"newbalanceDest\":0.0\n",
    "                  }\n",
    "                 )"
   ]
  },
  {
   "cell_type": "code",
   "execution_count": 3,
   "id": "42e7e37e",
   "metadata": {},
   "outputs": [
    {
     "name": "stdout",
     "output_type": "stream",
     "text": [
      "OK \n",
      "\n",
      " {\n",
      "  \"isFraud\": \"[False]\"\n",
      "}\n",
      "\n"
     ]
    }
   ],
   "source": [
    "print(r.reason,'\\n\\n',r.text)"
   ]
  }
 ],
 "metadata": {
  "kernelspec": {
   "display_name": "Python 3",
   "language": "python",
   "name": "python3"
  },
  "language_info": {
   "codemirror_mode": {
    "name": "ipython",
    "version": 3
   },
   "file_extension": ".py",
   "mimetype": "text/x-python",
   "name": "python",
   "nbconvert_exporter": "python",
   "pygments_lexer": "ipython3",
   "version": "3.7.3"
  }
 },
 "nbformat": 4,
 "nbformat_minor": 5
}
