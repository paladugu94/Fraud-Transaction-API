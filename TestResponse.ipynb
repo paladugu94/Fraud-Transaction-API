{
 "cells": [
  {
   "cell_type": "code",
   "execution_count": 71,
   "id": "5972c4dd",
   "metadata": {},
   "outputs": [
    }
   ],
   "source": [
    "import requests\n",
    "r = requests.post('http://127.0.0.1:12345/is-fraud', \n",
    "                  json = {\n",
    "                      \"step\":1,\n",
    "                      \"type\":\"TRANSFER\",\n",
    "                      \"amount\":9839.64,\n",
    "                      \"nameOrig\":\"C1231006815\",\n",
    "                      \"oldbalanceOrig\":170136.0,\n",
    "                      \"newbalanceOrig\":160296.36,\n",
    "                      \"nameDest\":\"M1979787155\",\n",
    "                      \"oldbalanceDest\":0.0,\n",
    "                      \"newbalanceDest\":0.0\n",
    "                  }\n",
    "                 )"
   ]
  },
  {
   "cell_type": "code",
   "execution_count": 69,
   "id": "42e7e37e",
   "metadata": {},
   "outputs": [
    {
     "name": "stdout",
     "output_type": "stream",
     "text": [
      "{\n",
      "  \"isFraud\": \"[False]\"\n",
      "}\n",
      "\n"
     ]
    }
   ],
   "source": [
    "# # print(r.text[:4000])\n",
    "# print(r.reason)\n",
    "# print(r.status_code)\n",
    "# print(str(r.content))\n",
    "# r.json()\n",
    "print(r.text)"
   ]
  },
  {
   "cell_type": "code",
   "execution_count": 60,
   "id": "e584bf5a",
   "metadata": {},
   "outputs": [],
   "source": [
    "temp= pd.DataFrame([{'A': 'a', 'B': 'b','C':'c'},{'A': 1, 'B': 2,'C':3}])"
   ]
  },
  {
   "cell_type": "code",
   "execution_count": 61,
   "id": "b51eb076",
   "metadata": {},
   "outputs": [
    {
     "data": {
      "text/plain": [
       "2"
      ]
     },
     "execution_count": 61,
     "metadata": {},
     "output_type": "execute_result"
    }
   ],
   "source": [
    "temp.shape[0]"
   ]
  },
  {
   "cell_type": "code",
   "execution_count": 63,
   "id": "d4bdc66b",
   "metadata": {},
   "outputs": [
    {
     "data": {
      "text/plain": [
       "'a'"
      ]
     },
     "execution_count": 63,
     "metadata": {},
     "output_type": "execute_result"
    }
   ],
   "source": [
    "temp.iloc[0].A"
   ]
  }
 ],
 "metadata": {
  "kernelspec": {
   "display_name": "Python 3",
   "language": "python",
   "name": "python3"
  },
  "language_info": {
   "codemirror_mode": {
    "name": "ipython",
    "version": 3
   },
   "file_extension": ".py",
   "mimetype": "text/x-python",
   "name": "python",
   "nbconvert_exporter": "python",
   "pygments_lexer": "ipython3",
   "version": "3.7.3"
  }
 },
 "nbformat": 4,
 "nbformat_minor": 5
}
