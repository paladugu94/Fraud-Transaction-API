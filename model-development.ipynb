{
 "cells": [
  {
   "cell_type": "code",
   "execution_count": 1,
   "id": "f844a8e1",
   "metadata": {},
   "outputs": [],
   "source": [
    "# pip install xgboost\n",
    "import pandas as pd\n",
    "import numpy as np\n",
    "\n",
    "%matplotlib inline\n",
    "import matplotlib.pyplot as plt\n",
    "import matplotlib.lines as mlines\n",
    "from mpl_toolkits.mplot3d import Axes3D\n",
    "\n",
    "import seaborn as sns\n",
    "from sklearn.model_selection import train_test_split, learning_curve\n",
    "from sklearn.metrics import average_precision_score\n",
    "from xgboost.sklearn import XGBClassifier\n",
    "from xgboost import plot_importance\n"
   ]
  },
  {
   "cell_type": "code",
   "execution_count": 2,
   "id": "27bc254e",
   "metadata": {},
   "outputs": [],
   "source": [
    "import warnings\n",
    "warnings.filterwarnings(\"ignore\", category=DeprecationWarning)"
   ]
  },
  {
   "cell_type": "code",
   "execution_count": 3,
   "id": "197bbb69",
   "metadata": {},
   "outputs": [],
   "source": [
    "df = pd.read_csv('../transactions_train/transactions_train.csv')"
   ]
  },
  {
   "cell_type": "code",
   "execution_count": 5,
   "id": "057d454b",
   "metadata": {},
   "outputs": [
    {
     "data": {
      "text/plain": [
       "array(['PAYMENT', 'TRANSFER', 'CASH_OUT', 'DEBIT', 'CASH_IN'],\n",
       "      dtype=object)"
      ]
     },
     "execution_count": 5,
     "metadata": {},
     "output_type": "execute_result"
    }
   ],
   "source": [
    "df.type.unique()"
   ]
  },
  {
   "cell_type": "code",
   "execution_count": 6,
   "id": "3f802451",
   "metadata": {},
   "outputs": [
    {
     "data": {
      "text/plain": [
       "False"
      ]
     },
     "execution_count": 6,
     "metadata": {},
     "output_type": "execute_result"
    }
   ],
   "source": [
    "df.isnull().values.any()"
   ]
  },
  {
   "cell_type": "code",
   "execution_count": 7,
   "id": "cae5e775",
   "metadata": {},
   "outputs": [
    {
     "data": {
      "text/plain": [
       "step              6351193\n",
       "type              6351193\n",
       "amount            6351193\n",
       "nameOrig          6351193\n",
       "oldbalanceOrig    6351193\n",
       "newbalanceOrig    6351193\n",
       "nameDest          6351193\n",
       "oldbalanceDest    6351193\n",
       "newbalanceDest    6351193\n",
       "isFraud           6351193\n",
       "dtype: int64"
      ]
     },
     "execution_count": 7,
     "metadata": {},
     "output_type": "execute_result"
    }
   ],
   "source": [
    "df.count()"
   ]
  },
  {
   "cell_type": "code",
   "execution_count": 8,
   "id": "97561606",
   "metadata": {},
   "outputs": [
    {
     "name": "stdout",
     "output_type": "stream",
     "text": [
      "\n",
      " The types of fraudulent transactions are ['TRANSFER', 'CASH_OUT']\n",
      "\n",
      " The number of fraudulent TRANSFERs = 3849\n",
      "\n",
      " The number of fraudulent CASH_OUTs = 3868\n"
     ]
    }
   ],
   "source": [
    "print('\\n The types of fraudulent transactions are {}'.format(\\\n",
    "list(df.loc[df.isFraud == 1].type.drop_duplicates().values)))  #['TRANSFER', 'CASH_OUT']\n",
    "\n",
    "dfFraudTransfer = df.loc[(df.isFraud == 1) & (df.type == 'TRANSFER')]\n",
    "dfFraudCashout = df.loc[(df.isFraud == 1) & (df.type == 'CASH_OUT')]\n",
    "\n",
    "print ('\\n The number of fraudulent TRANSFERs = {}'.\\\n",
    "       format(len(dfFraudTransfer))) # 3849\n",
    "\n",
    "print ('\\n The number of fraudulent CASH_OUTs = {}'.\\\n",
    "       format(len(dfFraudCashout))) # 3868"
   ]
  },
  {
   "cell_type": "code",
   "execution_count": 9,
   "id": "a91c5281",
   "metadata": {},
   "outputs": [
    {
     "name": "stdout",
     "output_type": "stream",
     "text": [
      "\n",
      "Are there any merchants among originator accounts for CASH_IN transactions? False\n",
      "\n",
      "Are there any merchants among destination accounts for CASH_OUT transactions? False\n",
      "\n",
      "Are there merchants among any originator accounts? False\n",
      "\n",
      "Are there any transactions having merchants among destination accounts other than the PAYMENT type? False\n"
     ]
    }
   ],
   "source": [
    "print('\\nAre there any merchants among originator accounts for CASH_IN \\\n",
    "transactions? {}'.format(\\\n",
    "(df.loc[df.type == 'CASH_IN'].nameOrig.str.contains('M')).any())) # False\n",
    "\n",
    "print('\\nAre there any merchants among destination accounts for CASH_OUT \\\n",
    "transactions? {}'.format(\\\n",
    "(df.loc[df.type == 'CASH_OUT'].nameDest.str.contains('M')).any())) # False\n",
    "\n",
    "print('\\nAre there merchants among any originator accounts? {}'.format(\\\n",
    "      df.nameOrig.str.contains('M').any())) # False\n",
    "\n",
    "print('\\nAre there any transactions having merchants among destination accounts\\\n",
    " other than the PAYMENT type? {}'.format(\\\n",
    "(df.loc[df.nameDest.str.contains('M')].type != 'PAYMENT').any())) # False\n",
    "\n",
    "#Conclusion: Among the account labels nameOrig and nameDest, for all transactions, the merchant prefix of 'M' occurs in an unexpected way."
   ]
  },
  {
   "cell_type": "code",
   "execution_count": 10,
   "id": "99597a52",
   "metadata": {},
   "outputs": [
    {
     "name": "stdout",
     "output_type": "stream",
     "text": [
      "\n",
      "Within fraudulent transactions, are there destinations for TRANSFERS that are also originators for CASH_OUTs? False\n"
     ]
    }
   ],
   "source": [
    "print('\\nWithin fraudulent transactions, are there destinations for TRANSFERS \\\n",
    "that are also originators for CASH_OUTs? {}'.format(\\\n",
    "(dfFraudTransfer.nameDest.isin(dfFraudCashout.nameOrig)).any())) # False\n",
    "dfNotFraud = df.loc[df.isFraud == 0]"
   ]
  },
  {
   "cell_type": "code",
   "execution_count": 11,
   "id": "d90d1daa",
   "metadata": {},
   "outputs": [
    {
     "name": "stdout",
     "output_type": "stream",
     "text": [
      "\n",
      "Fraudulent TRANSFERs whose destination accounts are originators of \\genuine CASH_OUTs: \n",
      "\n",
      "         step      type      amount     nameOrig  oldbalanceOrig  \\\n",
      "1030443    65  TRANSFER  1282971.57  C1175896731      1282971.57   \n",
      "6039814   486  TRANSFER   214793.32  C2140495649       214793.32   \n",
      "\n",
      "         newbalanceOrig     nameDest  oldbalanceDest  newbalanceDest  isFraud  \n",
      "1030443             0.0  C1714931087             0.0             0.0        1  \n",
      "6039814             0.0   C423543548             0.0             0.0        1  \n"
     ]
    }
   ],
   "source": [
    "print('\\nFraudulent TRANSFERs whose destination accounts are originators of \\genuine CASH_OUTs: \\n\\n{}'\n",
    "      .format(dfFraudTransfer.loc[dfFraudTransfer.nameDest.isin(dfNotFraud.loc[dfNotFraud.type == 'CASH_OUT']\n",
    "                                                                .nameOrig.drop_duplicates())]))"
   ]
  },
  {
   "cell_type": "code",
   "execution_count": 12,
   "id": "01672e2e",
   "metadata": {},
   "outputs": [],
   "source": [
    "X = df.loc[(df.type == 'TRANSFER') | (df.type == 'CASH_OUT')]\n",
    "\n",
    "randomState = 5\n",
    "np.random.seed(randomState)\n",
    "\n",
    "Y = X['isFraud']\n",
    "del X['isFraud']\n",
    "\n",
    "# Eliminate columns shown to be irrelevant for analysis in the EDA\n",
    "X = X.drop(['nameOrig', 'nameDest'], axis = 1)\n",
    "\n",
    "# Binary-encoding of labelled data in 'type'\n",
    "X.loc[X.type == 'TRANSFER', 'type'] = 0\n",
    "X.loc[X.type == 'CASH_OUT', 'type'] = 1\n",
    "X.type = X.type.astype(int) # convert dtype('O') to dtype(int)"
   ]
  },
  {
   "cell_type": "code",
   "execution_count": 13,
   "id": "41bd39b3",
   "metadata": {},
   "outputs": [
    {
     "data": {
      "text/html": [
       "<div>\n",
       "<style scoped>\n",
       "    .dataframe tbody tr th:only-of-type {\n",
       "        vertical-align: middle;\n",
       "    }\n",
       "\n",
       "    .dataframe tbody tr th {\n",
       "        vertical-align: top;\n",
       "    }\n",
       "\n",
       "    .dataframe thead th {\n",
       "        text-align: right;\n",
       "    }\n",
       "</style>\n",
       "<table border=\"1\" class=\"dataframe\">\n",
       "  <thead>\n",
       "    <tr style=\"text-align: right;\">\n",
       "      <th></th>\n",
       "      <th>step</th>\n",
       "      <th>type</th>\n",
       "      <th>amount</th>\n",
       "      <th>oldbalanceOrig</th>\n",
       "      <th>newbalanceOrig</th>\n",
       "      <th>oldbalanceDest</th>\n",
       "      <th>newbalanceDest</th>\n",
       "    </tr>\n",
       "  </thead>\n",
       "  <tbody>\n",
       "    <tr>\n",
       "      <th>2</th>\n",
       "      <td>1</td>\n",
       "      <td>0</td>\n",
       "      <td>181.00</td>\n",
       "      <td>181.0</td>\n",
       "      <td>0.0</td>\n",
       "      <td>0.0</td>\n",
       "      <td>0.00</td>\n",
       "    </tr>\n",
       "    <tr>\n",
       "      <th>3</th>\n",
       "      <td>1</td>\n",
       "      <td>1</td>\n",
       "      <td>181.00</td>\n",
       "      <td>181.0</td>\n",
       "      <td>0.0</td>\n",
       "      <td>21182.0</td>\n",
       "      <td>0.00</td>\n",
       "    </tr>\n",
       "    <tr>\n",
       "      <th>15</th>\n",
       "      <td>1</td>\n",
       "      <td>1</td>\n",
       "      <td>229133.94</td>\n",
       "      <td>15325.0</td>\n",
       "      <td>0.0</td>\n",
       "      <td>5083.0</td>\n",
       "      <td>51513.44</td>\n",
       "    </tr>\n",
       "    <tr>\n",
       "      <th>19</th>\n",
       "      <td>1</td>\n",
       "      <td>0</td>\n",
       "      <td>215310.30</td>\n",
       "      <td>705.0</td>\n",
       "      <td>0.0</td>\n",
       "      <td>22425.0</td>\n",
       "      <td>0.00</td>\n",
       "    </tr>\n",
       "    <tr>\n",
       "      <th>24</th>\n",
       "      <td>1</td>\n",
       "      <td>0</td>\n",
       "      <td>311685.89</td>\n",
       "      <td>10835.0</td>\n",
       "      <td>0.0</td>\n",
       "      <td>6267.0</td>\n",
       "      <td>2719172.89</td>\n",
       "    </tr>\n",
       "  </tbody>\n",
       "</table>\n",
       "</div>"
      ],
      "text/plain": [
       "    step  type     amount  oldbalanceOrig  newbalanceOrig  oldbalanceDest  \\\n",
       "2      1     0     181.00           181.0             0.0             0.0   \n",
       "3      1     1     181.00           181.0             0.0         21182.0   \n",
       "15     1     1  229133.94         15325.0             0.0          5083.0   \n",
       "19     1     0  215310.30           705.0             0.0         22425.0   \n",
       "24     1     0  311685.89         10835.0             0.0          6267.0   \n",
       "\n",
       "    newbalanceDest  \n",
       "2             0.00  \n",
       "3             0.00  \n",
       "15        51513.44  \n",
       "19            0.00  \n",
       "24      2719172.89  "
      ]
     },
     "execution_count": 13,
     "metadata": {},
     "output_type": "execute_result"
    }
   ],
   "source": [
    "X.head()"
   ]
  },
  {
   "cell_type": "code",
   "execution_count": 14,
   "id": "a3800d68",
   "metadata": {},
   "outputs": [
    {
     "data": {
      "text/plain": [
       "2     1\n",
       "3     1\n",
       "15    0\n",
       "19    0\n",
       "24    0\n",
       "Name: isFraud, dtype: int64"
      ]
     },
     "execution_count": 14,
     "metadata": {},
     "output_type": "execute_result"
    }
   ],
   "source": [
    "Y.head()"
   ]
  },
  {
   "cell_type": "code",
   "execution_count": 15,
   "id": "27674ccc",
   "metadata": {},
   "outputs": [
    {
     "name": "stdout",
     "output_type": "stream",
     "text": [
      "\n",
      "The fraction of fraudulent transactions with 'oldbalanceDest' = 'newbalanceDest' = 0 although the transacted 'amount' is non-zero is: 0.4952701827134897\n",
      "\n",
      "The fraction of genuine transactions with 'oldBalanceDest' = newBalanceDest' = 0 although the transacted 'amount' is non-zero is: 0.0006186832925410947\n"
     ]
    }
   ],
   "source": [
    "Xfraud = X.loc[Y == 1]\n",
    "XnonFraud = X.loc[Y == 0]\n",
    "print('\\nThe fraction of fraudulent transactions with \\'oldbalanceDest\\' = \\\n",
    "\\'newbalanceDest\\' = 0 although the transacted \\'amount\\' is non-zero is: {}'.\\\n",
    "format(len(Xfraud.loc[(Xfraud.oldbalanceDest == 0) & \\\n",
    "(Xfraud.newbalanceDest == 0) & (Xfraud.amount)]) / (1.0 * len(Xfraud))))\n",
    "\n",
    "print('\\nThe fraction of genuine transactions with \\'oldBalanceDest\\' = \\\n",
    "newBalanceDest\\' = 0 although the transacted \\'amount\\' is non-zero is: {}'.\\\n",
    "format(len(XnonFraud.loc[(XnonFraud.oldbalanceDest == 0) & \\\n",
    "(XnonFraud.newbalanceDest == 0) & (XnonFraud.amount)]) / (1.0 * len(XnonFraud))))"
   ]
  },
  {
   "cell_type": "code",
   "execution_count": 16,
   "id": "6bde113b",
   "metadata": {},
   "outputs": [],
   "source": [
    "X.loc[(X.oldbalanceDest == 0) & (X.newbalanceDest == 0) & (X.amount != 0), ['oldbalanceDest', 'newbalanceDest']] = - 1"
   ]
  },
  {
   "cell_type": "code",
   "execution_count": 17,
   "id": "86d18133",
   "metadata": {},
   "outputs": [
    {
     "data": {
      "text/html": [
       "<div>\n",
       "<style scoped>\n",
       "    .dataframe tbody tr th:only-of-type {\n",
       "        vertical-align: middle;\n",
       "    }\n",
       "\n",
       "    .dataframe tbody tr th {\n",
       "        vertical-align: top;\n",
       "    }\n",
       "\n",
       "    .dataframe thead th {\n",
       "        text-align: right;\n",
       "    }\n",
       "</style>\n",
       "<table border=\"1\" class=\"dataframe\">\n",
       "  <thead>\n",
       "    <tr style=\"text-align: right;\">\n",
       "      <th></th>\n",
       "      <th>step</th>\n",
       "      <th>type</th>\n",
       "      <th>amount</th>\n",
       "      <th>oldbalanceOrig</th>\n",
       "      <th>newbalanceOrig</th>\n",
       "      <th>oldbalanceDest</th>\n",
       "      <th>newbalanceDest</th>\n",
       "    </tr>\n",
       "  </thead>\n",
       "  <tbody>\n",
       "    <tr>\n",
       "      <th>2</th>\n",
       "      <td>1</td>\n",
       "      <td>0</td>\n",
       "      <td>181.00</td>\n",
       "      <td>181.00</td>\n",
       "      <td>0.0</td>\n",
       "      <td>-1.0</td>\n",
       "      <td>-1.0</td>\n",
       "    </tr>\n",
       "    <tr>\n",
       "      <th>251</th>\n",
       "      <td>1</td>\n",
       "      <td>0</td>\n",
       "      <td>2806.00</td>\n",
       "      <td>2806.00</td>\n",
       "      <td>0.0</td>\n",
       "      <td>-1.0</td>\n",
       "      <td>-1.0</td>\n",
       "    </tr>\n",
       "    <tr>\n",
       "      <th>680</th>\n",
       "      <td>1</td>\n",
       "      <td>0</td>\n",
       "      <td>20128.00</td>\n",
       "      <td>20128.00</td>\n",
       "      <td>0.0</td>\n",
       "      <td>-1.0</td>\n",
       "      <td>-1.0</td>\n",
       "    </tr>\n",
       "    <tr>\n",
       "      <th>969</th>\n",
       "      <td>1</td>\n",
       "      <td>0</td>\n",
       "      <td>1277212.77</td>\n",
       "      <td>1277212.77</td>\n",
       "      <td>0.0</td>\n",
       "      <td>-1.0</td>\n",
       "      <td>-1.0</td>\n",
       "    </tr>\n",
       "    <tr>\n",
       "      <th>1115</th>\n",
       "      <td>1</td>\n",
       "      <td>0</td>\n",
       "      <td>35063.63</td>\n",
       "      <td>35063.63</td>\n",
       "      <td>0.0</td>\n",
       "      <td>-1.0</td>\n",
       "      <td>-1.0</td>\n",
       "    </tr>\n",
       "    <tr>\n",
       "      <th>...</th>\n",
       "      <td>...</td>\n",
       "      <td>...</td>\n",
       "      <td>...</td>\n",
       "      <td>...</td>\n",
       "      <td>...</td>\n",
       "      <td>...</td>\n",
       "      <td>...</td>\n",
       "    </tr>\n",
       "    <tr>\n",
       "      <th>6351149</th>\n",
       "      <td>699</td>\n",
       "      <td>0</td>\n",
       "      <td>257643.59</td>\n",
       "      <td>257643.59</td>\n",
       "      <td>0.0</td>\n",
       "      <td>-1.0</td>\n",
       "      <td>-1.0</td>\n",
       "    </tr>\n",
       "    <tr>\n",
       "      <th>6351182</th>\n",
       "      <td>699</td>\n",
       "      <td>0</td>\n",
       "      <td>215013.30</td>\n",
       "      <td>215013.30</td>\n",
       "      <td>0.0</td>\n",
       "      <td>-1.0</td>\n",
       "      <td>-1.0</td>\n",
       "    </tr>\n",
       "    <tr>\n",
       "      <th>6351185</th>\n",
       "      <td>699</td>\n",
       "      <td>0</td>\n",
       "      <td>62372.43</td>\n",
       "      <td>62372.43</td>\n",
       "      <td>0.0</td>\n",
       "      <td>-1.0</td>\n",
       "      <td>-1.0</td>\n",
       "    </tr>\n",
       "    <tr>\n",
       "      <th>6351188</th>\n",
       "      <td>699</td>\n",
       "      <td>0</td>\n",
       "      <td>162326.52</td>\n",
       "      <td>162326.52</td>\n",
       "      <td>0.0</td>\n",
       "      <td>-1.0</td>\n",
       "      <td>-1.0</td>\n",
       "    </tr>\n",
       "    <tr>\n",
       "      <th>6351190</th>\n",
       "      <td>699</td>\n",
       "      <td>0</td>\n",
       "      <td>2763398.31</td>\n",
       "      <td>2763398.31</td>\n",
       "      <td>0.0</td>\n",
       "      <td>-1.0</td>\n",
       "      <td>-1.0</td>\n",
       "    </tr>\n",
       "  </tbody>\n",
       "</table>\n",
       "<p>5528 rows × 7 columns</p>\n",
       "</div>"
      ],
      "text/plain": [
       "         step  type      amount  oldbalanceOrig  newbalanceOrig  \\\n",
       "2           1     0      181.00          181.00             0.0   \n",
       "251         1     0     2806.00         2806.00             0.0   \n",
       "680         1     0    20128.00        20128.00             0.0   \n",
       "969         1     0  1277212.77      1277212.77             0.0   \n",
       "1115        1     0    35063.63        35063.63             0.0   \n",
       "...       ...   ...         ...             ...             ...   \n",
       "6351149   699     0   257643.59       257643.59             0.0   \n",
       "6351182   699     0   215013.30       215013.30             0.0   \n",
       "6351185   699     0    62372.43        62372.43             0.0   \n",
       "6351188   699     0   162326.52       162326.52             0.0   \n",
       "6351190   699     0  2763398.31      2763398.31             0.0   \n",
       "\n",
       "         oldbalanceDest  newbalanceDest  \n",
       "2                  -1.0            -1.0  \n",
       "251                -1.0            -1.0  \n",
       "680                -1.0            -1.0  \n",
       "969                -1.0            -1.0  \n",
       "1115               -1.0            -1.0  \n",
       "...                 ...             ...  \n",
       "6351149            -1.0            -1.0  \n",
       "6351182            -1.0            -1.0  \n",
       "6351185            -1.0            -1.0  \n",
       "6351188            -1.0            -1.0  \n",
       "6351190            -1.0            -1.0  \n",
       "\n",
       "[5528 rows x 7 columns]"
      ]
     },
     "execution_count": 17,
     "metadata": {},
     "output_type": "execute_result"
    }
   ],
   "source": [
    "X.loc[(X.oldbalanceDest == -1) & (X.newbalanceDest == -1)]"
   ]
  },
  {
   "cell_type": "code",
   "execution_count": 18,
   "id": "038fe0a2",
   "metadata": {},
   "outputs": [],
   "source": [
    "X.loc[(X.oldbalanceOrig == 0) & (X.newbalanceOrig == 0) & (X.amount != 0), ['oldbalanceOrig', 'newbalanceOrig']] = np.nan"
   ]
  },
  {
   "cell_type": "code",
   "execution_count": 19,
   "id": "cfa75763",
   "metadata": {},
   "outputs": [],
   "source": [
    "X['errorbalanceOrig'] = X.newbalanceOrig + X.amount - X.oldbalanceOrig\n",
    "X['errorbalanceDest'] = X.oldbalanceDest + X.amount - X.newbalanceDest"
   ]
  },
  {
   "cell_type": "code",
   "execution_count": 20,
   "id": "60ca4e0e",
   "metadata": {},
   "outputs": [],
   "source": [
    "trainX, testX, trainY, testY = train_test_split(X, Y, test_size = 0.2, random_state = randomState)"
   ]
  },
  {
   "cell_type": "code",
   "execution_count": 21,
   "id": "21bc6e9a",
   "metadata": {},
   "outputs": [
    {
     "data": {
      "text/html": [
       "<div>\n",
       "<style scoped>\n",
       "    .dataframe tbody tr th:only-of-type {\n",
       "        vertical-align: middle;\n",
       "    }\n",
       "\n",
       "    .dataframe tbody tr th {\n",
       "        vertical-align: top;\n",
       "    }\n",
       "\n",
       "    .dataframe thead th {\n",
       "        text-align: right;\n",
       "    }\n",
       "</style>\n",
       "<table border=\"1\" class=\"dataframe\">\n",
       "  <thead>\n",
       "    <tr style=\"text-align: right;\">\n",
       "      <th></th>\n",
       "      <th>step</th>\n",
       "      <th>type</th>\n",
       "      <th>amount</th>\n",
       "      <th>oldbalanceOrig</th>\n",
       "      <th>newbalanceOrig</th>\n",
       "      <th>oldbalanceDest</th>\n",
       "      <th>newbalanceDest</th>\n",
       "      <th>errorbalanceOrig</th>\n",
       "      <th>errorbalanceDest</th>\n",
       "    </tr>\n",
       "  </thead>\n",
       "  <tbody>\n",
       "    <tr>\n",
       "      <th>2509820</th>\n",
       "      <td>205</td>\n",
       "      <td>1</td>\n",
       "      <td>38073.06</td>\n",
       "      <td>174303.12</td>\n",
       "      <td>136230.05</td>\n",
       "      <td>12671731.70</td>\n",
       "      <td>12709804.77</td>\n",
       "      <td>-0.01</td>\n",
       "      <td>-1.000000e-02</td>\n",
       "    </tr>\n",
       "    <tr>\n",
       "      <th>1743720</th>\n",
       "      <td>161</td>\n",
       "      <td>1</td>\n",
       "      <td>189497.23</td>\n",
       "      <td>20639.00</td>\n",
       "      <td>0.00</td>\n",
       "      <td>157237.98</td>\n",
       "      <td>346735.20</td>\n",
       "      <td>168858.23</td>\n",
       "      <td>1.000000e-02</td>\n",
       "    </tr>\n",
       "    <tr>\n",
       "      <th>2509477</th>\n",
       "      <td>205</td>\n",
       "      <td>1</td>\n",
       "      <td>337626.06</td>\n",
       "      <td>NaN</td>\n",
       "      <td>NaN</td>\n",
       "      <td>1524443.34</td>\n",
       "      <td>1862069.40</td>\n",
       "      <td>NaN</td>\n",
       "      <td>2.328306e-10</td>\n",
       "    </tr>\n",
       "    <tr>\n",
       "      <th>480153</th>\n",
       "      <td>19</td>\n",
       "      <td>1</td>\n",
       "      <td>43826.99</td>\n",
       "      <td>NaN</td>\n",
       "      <td>NaN</td>\n",
       "      <td>98772.54</td>\n",
       "      <td>155535.69</td>\n",
       "      <td>NaN</td>\n",
       "      <td>-1.293616e+04</td>\n",
       "    </tr>\n",
       "    <tr>\n",
       "      <th>4640354</th>\n",
       "      <td>330</td>\n",
       "      <td>1</td>\n",
       "      <td>179833.53</td>\n",
       "      <td>5068.00</td>\n",
       "      <td>0.00</td>\n",
       "      <td>3009146.37</td>\n",
       "      <td>3188979.90</td>\n",
       "      <td>174765.53</td>\n",
       "      <td>0.000000e+00</td>\n",
       "    </tr>\n",
       "  </tbody>\n",
       "</table>\n",
       "</div>"
      ],
      "text/plain": [
       "         step  type     amount  oldbalanceOrig  newbalanceOrig  \\\n",
       "2509820   205     1   38073.06       174303.12       136230.05   \n",
       "1743720   161     1  189497.23        20639.00            0.00   \n",
       "2509477   205     1  337626.06             NaN             NaN   \n",
       "480153     19     1   43826.99             NaN             NaN   \n",
       "4640354   330     1  179833.53         5068.00            0.00   \n",
       "\n",
       "         oldbalanceDest  newbalanceDest  errorbalanceOrig  errorbalanceDest  \n",
       "2509820     12671731.70     12709804.77             -0.01     -1.000000e-02  \n",
       "1743720       157237.98       346735.20         168858.23      1.000000e-02  \n",
       "2509477      1524443.34      1862069.40               NaN      2.328306e-10  \n",
       "480153         98772.54       155535.69               NaN     -1.293616e+04  \n",
       "4640354      3009146.37      3188979.90         174765.53      0.000000e+00  "
      ]
     },
     "execution_count": 21,
     "metadata": {},
     "output_type": "execute_result"
    }
   ],
   "source": [
    "trainX.head()"
   ]
  },
  {
   "cell_type": "code",
   "execution_count": 55,
   "id": "be0a19a8",
   "metadata": {},
   "outputs": [
    {
     "name": "stderr",
     "output_type": "stream",
     "text": [
      "C:\\Users\\paladugu\\AppData\\Local\\Continuum\\anaconda3\\lib\\site-packages\\xgboost\\sklearn.py:1224: UserWarning: The use of label encoder in XGBClassifier is deprecated and will be removed in a future release. To remove this warning, do the following: 1) Pass option use_label_encoder=False when constructing XGBClassifier object; and 2) Encode your labels (y) as integers starting with 0, i.e. 0, 1, 2, ..., [num_class - 1].\n",
      "  warnings.warn(label_encoder_deprecation_msg, UserWarning)\n"
     ]
    },
    {
     "name": "stdout",
     "output_type": "stream",
     "text": [
      "[17:41:46] WARNING: C:/Users/Administrator/workspace/xgboost-win64_release_1.5.0/src/learner.cc:1115: Starting in XGBoost 1.3.0, the default evaluation metric used with the objective 'binary:logistic' was changed from 'error' to 'logloss'. Explicitly set eval_metric if you'd like to restore the old behavior.\n"
     ]
    }
   ],
   "source": [
    "weights = (Y == 0).sum() / (1.0 * (Y == 1).sum())\n",
    "\n",
    "clf = XGBClassifier(max_depth = 3, scale_pos_weight = weights, n_jobs = 4)\n",
    "\n",
    "probabilities = clf.fit(trainX, trainY).predict_proba(testX)\n",
    "ypred = clf.fit(trainX, trainY).predict(testX)\n",
    "\n",
    "print('AUPRC = {}'.format(average_precision_score(testY, probabilities[:, 1])))"
   ]
  },
  {
   "cell_type": "code",
   "execution_count": 57,
   "id": "bb67e1e7",
   "metadata": {},
   "outputs": [
    {
     "data": {
      "text/plain": [
       "array([0, 0, 0, ..., 0, 0, 0], dtype=int64)"
      ]
     },
     "execution_count": 57,
     "metadata": {},
     "output_type": "execute_result"
    }
   ],
   "source": [
    " ypred"
   ]
  },
  {
   "cell_type": "code",
   "execution_count": 70,
   "id": "81b12f25",
   "metadata": {},
   "outputs": [
    {
     "data": {
      "text/html": [
       "        <script type=\"text/javascript\">\n",
       "        window.PlotlyConfig = {MathJaxConfig: 'local'};\n",
       "        if (window.MathJax) {MathJax.Hub.Config({SVG: {font: \"STIX-Web\"}});}\n",
       "        if (typeof require !== 'undefined') {\n",
       "        require.undef(\"plotly\");\n",
       "        requirejs.config({\n",
       "            paths: {\n",
       "                'plotly': ['https://cdn.plot.ly/plotly-2.6.3.min']\n",
       "            }\n",
       "        });\n",
       "        require(['plotly'], function(Plotly) {\n",
       "            window._Plotly = Plotly;\n",
       "        });\n",
       "        }\n",
       "        </script>\n",
       "        "
      ]
     },
     "metadata": {},
     "output_type": "display_data"
    },
    {
     "name": "stdout",
     "output_type": "stream",
     "text": [
      "[[551504     16]\n",
      " [     7   1511]]\n",
      "\n",
      "\n",
      "\n",
      "              precision    recall  f1-score   support\n",
      "\n",
      "   Not Fraud       1.00      1.00      1.00    551520\n",
      "       Fraud       0.99      1.00      0.99      1518\n",
      "\n",
      "    accuracy                           1.00    553038\n",
      "   macro avg       0.99      1.00      1.00    553038\n",
      "weighted avg       1.00      1.00      1.00    553038\n",
      "\n"
     ]
    }
   ],
   "source": [
    "#Metrics Libraries\n",
    "from sklearn import metrics\n",
    "from sklearn.metrics import classification_report,accuracy_score,confusion_matrix\n",
    "#Visualization libraries\n",
    "import seaborn as sns\n",
    "import matplotlib.pyplot as plt\n",
    "import plotly.express as px\n",
    "import plotly.graph_objects as go\n",
    "from plotly.offline import plot, iplot, init_notebook_mode\n",
    "init_notebook_mode(connected=True)\n",
    "%matplotlib inline\n",
    "\n",
    "cm = metrics.confusion_matrix(testY, ypred)\n",
    "print(cm)\n",
    "print('\\n\\n')\n",
    "\n",
    "#Classification metrics\n",
    "print(classification_report(testY,ypred, target_names=['Not Fraud','Fraud']))"
   ]
  },
  {
   "cell_type": "code",
   "execution_count": 39,
   "id": "d943d82b",
   "metadata": {},
   "outputs": [
    {
     "data": {
      "image/png": "[encoded data removed]",
      "text/plain": [
       "<Figure size 1008x648 with 1 Axes>"
      ]
     },
     "metadata": {
      "needs_background": "light"
     },
     "output_type": "display_data"
    }
   ],
   "source": [
    "fig = plt.figure(figsize = (14, 9))\n",
    "ax = fig.add_subplot(111)\n",
    "\n",
    "colours = plt.cm.Set1(np.linspace(0, 1, 9))\n",
    "\n",
    "ax = plot_importance(clf, height = 1, color = colours, grid = False, show_values = False, importance_type = 'cover', ax = ax);\n",
    "\n",
    "for axis in ['top','bottom','left','right']:\n",
    "            ax.spines[axis].set_linewidth(2)\n",
    "        \n",
    "ax.set_xlabel('importance score', size = 16);\n",
    "ax.set_ylabel('features', size = 16);\n",
    "ax.set_yticklabels(ax.get_yticklabels(), size = 12);\n",
    "ax.set_title('Ordering of features by importance to the model learnt', size = 20);"
   ]
  },
  {
   "cell_type": "code",
   "execution_count": 75,
   "id": "75f991a9",
   "metadata": {},
   "outputs": [
    {
     "data": {
      "text/plain": [
       "XGBClassifier(base_score=0.5, booster='gbtree', colsample_bylevel=1,\n",
       "              colsample_bynode=1, colsample_bytree=1, enable_categorical=False,\n",
       "              gamma=0, gpu_id=-1, importance_type=None,\n",
       "              interaction_constraints='', learning_rate=0.300000012,\n",
       "              max_delta_step=0, max_depth=3, min_child_weight=1, missing=nan,\n",
       "              monotone_constraints='()', n_estimators=100, n_jobs=4,\n",
       "              num_parallel_tree=1, predictor='auto', random_state=0,\n",
       "              reg_alpha=0, reg_lambda=1, scale_pos_weight=357.32396008811713,\n",
       "              subsample=1, tree_method='exact', validate_parameters=1,\n",
       "              verbosity=None)"
      ]
     },
     "execution_count": 75,
     "metadata": {},
     "output_type": "execute_result"
    }
   ],
   "source": [
    "clf"
   ]
  }
 ],
 "metadata": {
  "kernelspec": {
   "display_name": "Python 3",
   "language": "python",
   "name": "python3"
  },
  "language_info": {
   "codemirror_mode": {
    "name": "ipython",
    "version": 3
   },
   "file_extension": ".py",
   "mimetype": "text/x-python",
   "name": "python",
   "nbconvert_exporter": "python",
   "pygments_lexer": "ipython3",
   "version": "3.7.3"
  }
 },
 "nbformat": 4,
 "nbformat_minor": 5
}
