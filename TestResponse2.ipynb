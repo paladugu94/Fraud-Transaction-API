{
 "cells": [
  {
   "cell_type": "code",
   "execution_count": 132,
   "id": "1229901e",
   "metadata": {},
   "outputs": [],
   "source": [
    "import requests\n",
    "r = requests.post('http://127.0.0.1:4444/is-fraud', \n",
    "                  json = {\"step\":1,\"type\":\"TRANSFER\",\"amount\":9839.64,\"nameOrig\":\"C1231006815\",\"oldbalanceOrig\":170136.0,\"newbalanceOrig\":160296.36,\"nameDest\":\"M1979787155\",\"oldbalanceDest\":0.0,\"newbalanceDest\":0.0}\n",
    "                 )"
   ]
  },
  {
   "cell_type": "code",
   "execution_count": 133,
   "id": "0fdee3e2",
   "metadata": {},
   "outputs": [
    {
     "data": {
      "text/plain": [
       "{'isFraud': '[False]'}"
      ]
     },
     "execution_count": 133,
     "metadata": {},
     "output_type": "execute_result"
    }
   ],
   "source": [
    "r.json()"
   ]
  },
  {
   "cell_type": "code",
   "execution_count": 202,
   "id": "41e243ce",
   "metadata": {},
   "outputs": [],
   "source": [
    "json = {\"step\":1,\"type\":\"TRANSFER\",\"amount\":9839.64,\"nameOrig\":\"C1231006815\",\"oldbalanceOrig\":170136.0,\"newbalanceOrig\":160296.36,\"nameDest\":\"M1979787155\",\"oldbalanceDest\":0.0,\"newbalanceDest\":0.0}\n",
    "data = pd.DataFrame(json, index=[0])"
   ]
  },
  {
   "cell_type": "code",
   "execution_count": 189,
   "id": "fa0ca77e",
   "metadata": {},
   "outputs": [
    {
     "data": {
      "text/html": [
       "<div>\n",
       "<style scoped>\n",
       "    .dataframe tbody tr th:only-of-type {\n",
       "        vertical-align: middle;\n",
       "    }\n",
       "\n",
       "    .dataframe tbody tr th {\n",
       "        vertical-align: top;\n",
       "    }\n",
       "\n",
       "    .dataframe thead th {\n",
       "        text-align: right;\n",
       "    }\n",
       "</style>\n",
       "<table border=\"1\" class=\"dataframe\">\n",
       "  <thead>\n",
       "    <tr style=\"text-align: right;\">\n",
       "      <th></th>\n",
       "      <th>step</th>\n",
       "      <th>type</th>\n",
       "      <th>amount</th>\n",
       "      <th>nameOrig</th>\n",
       "      <th>oldbalanceOrig</th>\n",
       "      <th>newbalanceOrig</th>\n",
       "      <th>nameDest</th>\n",
       "      <th>oldbalanceDest</th>\n",
       "      <th>newbalanceDest</th>\n",
       "    </tr>\n",
       "  </thead>\n",
       "  <tbody>\n",
       "    <tr>\n",
       "      <th>0</th>\n",
       "      <td>1</td>\n",
       "      <td>TRANSFER</td>\n",
       "      <td>9839.64</td>\n",
       "      <td>C1231006815</td>\n",
       "      <td>170136.0</td>\n",
       "      <td>160296.36</td>\n",
       "      <td>M1979787155</td>\n",
       "      <td>0.0</td>\n",
       "      <td>1.0</td>\n",
       "    </tr>\n",
       "  </tbody>\n",
       "</table>\n",
       "</div>"
      ],
      "text/plain": [
       "   step      type   amount     nameOrig  oldbalanceOrig  newbalanceOrig  \\\n",
       "0     1  TRANSFER  9839.64  C1231006815        170136.0       160296.36   \n",
       "\n",
       "      nameDest  oldbalanceDest  newbalanceDest  \n",
       "0  M1979787155             0.0             1.0  "
      ]
     },
     "execution_count": 189,
     "metadata": {},
     "output_type": "execute_result"
    }
   ],
   "source": [
    "data"
   ]
  },
  {
   "cell_type": "code",
   "execution_count": 153,
   "id": "9f888719",
   "metadata": {},
   "outputs": [
    {
     "data": {
      "text/html": [
       "<div>\n",
       "<style scoped>\n",
       "    .dataframe tbody tr th:only-of-type {\n",
       "        vertical-align: middle;\n",
       "    }\n",
       "\n",
       "    .dataframe tbody tr th {\n",
       "        vertical-align: top;\n",
       "    }\n",
       "\n",
       "    .dataframe thead th {\n",
       "        text-align: right;\n",
       "    }\n",
       "</style>\n",
       "<table border=\"1\" class=\"dataframe\">\n",
       "  <thead>\n",
       "    <tr style=\"text-align: right;\">\n",
       "      <th></th>\n",
       "      <th>step</th>\n",
       "      <th>type</th>\n",
       "      <th>amount</th>\n",
       "      <th>nameOrig</th>\n",
       "      <th>oldbalanceOrig</th>\n",
       "      <th>newbalanceOrig</th>\n",
       "      <th>nameDest</th>\n",
       "      <th>oldbalanceDest</th>\n",
       "      <th>newbalanceDest</th>\n",
       "      <th>size</th>\n",
       "    </tr>\n",
       "  </thead>\n",
       "  <tbody>\n",
       "    <tr>\n",
       "      <th>0</th>\n",
       "      <td>1</td>\n",
       "      <td>CASH_OUT</td>\n",
       "      <td>9839.64</td>\n",
       "      <td>C1231006815</td>\n",
       "      <td>170136.0</td>\n",
       "      <td>160296.36</td>\n",
       "      <td>M1979787155</td>\n",
       "      <td>0.0</td>\n",
       "      <td>0.0</td>\n",
       "      <td>1</td>\n",
       "    </tr>\n",
       "  </tbody>\n",
       "</table>\n",
       "</div>"
      ],
      "text/plain": [
       "   step      type   amount     nameOrig  oldbalanceOrig  newbalanceOrig  \\\n",
       "0     1  CASH_OUT  9839.64  C1231006815        170136.0       160296.36   \n",
       "\n",
       "      nameDest  oldbalanceDest  newbalanceDest  size  \n",
       "0  M1979787155             0.0             0.0     1  "
      ]
     },
     "execution_count": 153,
     "metadata": {},
     "output_type": "execute_result"
    }
   ],
   "source": [
    "data.groupby(data.columns.tolist(),as_index=False).size()"
   ]
  },
  {
   "cell_type": "code",
   "execution_count": 146,
   "id": "8a7a0ba3",
   "metadata": {},
   "outputs": [
    {
     "data": {
      "text/html": [
       "<div>\n",
       "<style scoped>\n",
       "    .dataframe tbody tr th:only-of-type {\n",
       "        vertical-align: middle;\n",
       "    }\n",
       "\n",
       "    .dataframe tbody tr th {\n",
       "        vertical-align: top;\n",
       "    }\n",
       "\n",
       "    .dataframe thead th {\n",
       "        text-align: right;\n",
       "    }\n",
       "</style>\n",
       "<table border=\"1\" class=\"dataframe\">\n",
       "  <thead>\n",
       "    <tr style=\"text-align: right;\">\n",
       "      <th></th>\n",
       "      <th>step</th>\n",
       "      <th>type</th>\n",
       "      <th>amount</th>\n",
       "      <th>nameOrig</th>\n",
       "      <th>oldbalanceOrig</th>\n",
       "      <th>newbalanceOrig</th>\n",
       "      <th>nameDest</th>\n",
       "      <th>oldbalanceDest</th>\n",
       "      <th>newbalanceDest</th>\n",
       "    </tr>\n",
       "  </thead>\n",
       "  <tbody>\n",
       "    <tr>\n",
       "      <th>0</th>\n",
       "      <td>1</td>\n",
       "      <td>TRANSFER</td>\n",
       "      <td>9839.64</td>\n",
       "      <td>C1231006815</td>\n",
       "      <td>170136.0</td>\n",
       "      <td>160296.36</td>\n",
       "      <td>M1979787155</td>\n",
       "      <td>0.0</td>\n",
       "      <td>0.0</td>\n",
       "    </tr>\n",
       "    <tr>\n",
       "      <th>0</th>\n",
       "      <td>1</td>\n",
       "      <td>TRANSFER</td>\n",
       "      <td>9839.64</td>\n",
       "      <td>C1231006815</td>\n",
       "      <td>170136.0</td>\n",
       "      <td>160296.36</td>\n",
       "      <td>M1979787155</td>\n",
       "      <td>0.0</td>\n",
       "      <td>0.0</td>\n",
       "    </tr>\n",
       "  </tbody>\n",
       "</table>\n",
       "</div>"
      ],
      "text/plain": [
       "   step      type   amount     nameOrig  oldbalanceOrig  newbalanceOrig  \\\n",
       "0     1  TRANSFER  9839.64  C1231006815        170136.0       160296.36   \n",
       "0     1  TRANSFER  9839.64  C1231006815        170136.0       160296.36   \n",
       "\n",
       "      nameDest  oldbalanceDest  newbalanceDest  \n",
       "0  M1979787155             0.0             0.0  \n",
       "0  M1979787155             0.0             0.0  "
      ]
     },
     "execution_count": 146,
     "metadata": {},
     "output_type": "execute_result"
    }
   ],
   "source": [
    "new_data= pd.concat([data,data], axis=0)\n",
    "new_data"
   ]
  },
  {
   "cell_type": "code",
   "execution_count": 136,
   "id": "3e8284a3",
   "metadata": {},
   "outputs": [],
   "source": [
    "def addToFile(file, what):\n",
    "    f = open(file, 'a').write(what) "
   ]
  },
  {
   "cell_type": "code",
   "execution_count": 138,
   "id": "27bd1972",
   "metadata": {},
   "outputs": [
    {
     "ename": "TypeError",
     "evalue": "write() argument must be str, not DataFrame",
     "output_type": "error",
     "traceback": [
      "\u001b[1;31m---------------------------------------------------------------------------\u001b[0m",
      "\u001b[1;31mTypeError\u001b[0m                                 Traceback (most recent call last)",
      "\u001b[1;32m<ipython-input-138-bb7cc08876df>\u001b[0m in \u001b[0;36m<module>\u001b[1;34m\u001b[0m\n\u001b[1;32m----> 1\u001b[1;33m \u001b[0maddToFile\u001b[0m\u001b[1;33m(\u001b[0m\u001b[1;34m'file_name.csv'\u001b[0m\u001b[1;33m,\u001b[0m \u001b[0mdata\u001b[0m\u001b[1;33m)\u001b[0m\u001b[1;33m\u001b[0m\u001b[1;33m\u001b[0m\u001b[0m\n\u001b[0m",
      "\u001b[1;32m<ipython-input-136-2037b18fbfac>\u001b[0m in \u001b[0;36maddToFile\u001b[1;34m(file, what)\u001b[0m\n\u001b[0;32m      1\u001b[0m \u001b[1;32mdef\u001b[0m \u001b[0maddToFile\u001b[0m\u001b[1;33m(\u001b[0m\u001b[0mfile\u001b[0m\u001b[1;33m,\u001b[0m \u001b[0mwhat\u001b[0m\u001b[1;33m)\u001b[0m\u001b[1;33m:\u001b[0m\u001b[1;33m\u001b[0m\u001b[1;33m\u001b[0m\u001b[0m\n\u001b[1;32m----> 2\u001b[1;33m     \u001b[0mf\u001b[0m \u001b[1;33m=\u001b[0m \u001b[0mopen\u001b[0m\u001b[1;33m(\u001b[0m\u001b[0mfile\u001b[0m\u001b[1;33m,\u001b[0m \u001b[1;34m'a'\u001b[0m\u001b[1;33m)\u001b[0m\u001b[1;33m.\u001b[0m\u001b[0mwrite\u001b[0m\u001b[1;33m(\u001b[0m\u001b[0mwhat\u001b[0m\u001b[1;33m)\u001b[0m\u001b[1;33m\u001b[0m\u001b[1;33m\u001b[0m\u001b[0m\n\u001b[0m",
      "\u001b[1;31mTypeError\u001b[0m: write() argument must be str, not DataFrame"
     ]
    }
   ],
   "source": [
    "addToFile('file_name.csv', data)"
   ]
  },
  {
   "cell_type": "code",
   "execution_count": 140,
   "id": "c0212e4e",
   "metadata": {},
   "outputs": [],
   "source": [
    "file_obj  = open(\"file_name.csv\", \"w+\")"
   ]
  },
  {
   "cell_type": "code",
   "execution_count": 190,
   "id": "9ca48bc0",
   "metadata": {},
   "outputs": [],
   "source": [
    "import os.path\n",
    "file_exists = os.path.isfile('file_name.csv') \n",
    "\n",
    "if file_exists:\n",
    "    temp = pd.read_csv('file_name.csv')\n",
    "    new_data = pd.concat([temp,data],axis=0)\n",
    "    new_data.to_csv('file_name.csv', index=False) \n",
    "else:\n",
    "    data.to_csv('file_name.csv', index=False) "
   ]
  },
  {
   "cell_type": "code",
   "execution_count": 191,
   "id": "cf1ba302",
   "metadata": {},
   "outputs": [],
   "source": [
    "new_df = pd.read_csv('file_name.csv')\n",
    "\n",
    "group = new_df.groupby(new_df.columns.tolist(),as_index=False).size().reset_index()"
   ]
  },
  {
   "cell_type": "code",
   "execution_count": 195,
   "id": "ccac7dd2",
   "metadata": {},
   "outputs": [
    {
     "data": {
      "text/html": [
       "<div>\n",
       "<style scoped>\n",
       "    .dataframe tbody tr th:only-of-type {\n",
       "        vertical-align: middle;\n",
       "    }\n",
       "\n",
       "    .dataframe tbody tr th {\n",
       "        vertical-align: top;\n",
       "    }\n",
       "\n",
       "    .dataframe thead th {\n",
       "        text-align: right;\n",
       "    }\n",
       "</style>\n",
       "<table border=\"1\" class=\"dataframe\">\n",
       "  <thead>\n",
       "    <tr style=\"text-align: right;\">\n",
       "      <th></th>\n",
       "      <th>index</th>\n",
       "      <th>step</th>\n",
       "      <th>type</th>\n",
       "      <th>amount</th>\n",
       "      <th>nameOrig</th>\n",
       "      <th>oldbalanceOrig</th>\n",
       "      <th>newbalanceOrig</th>\n",
       "      <th>nameDest</th>\n",
       "      <th>oldbalanceDest</th>\n",
       "      <th>newbalanceDest</th>\n",
       "      <th>size</th>\n",
       "    </tr>\n",
       "  </thead>\n",
       "  <tbody>\n",
       "    <tr>\n",
       "      <th>0</th>\n",
       "      <td>0</td>\n",
       "      <td>1</td>\n",
       "      <td>CASH_OUT</td>\n",
       "      <td>9839.64</td>\n",
       "      <td>C1231006815</td>\n",
       "      <td>170136.0</td>\n",
       "      <td>160296.36</td>\n",
       "      <td>M1979787155</td>\n",
       "      <td>0.0</td>\n",
       "      <td>0.0</td>\n",
       "      <td>1</td>\n",
       "    </tr>\n",
       "    <tr>\n",
       "      <th>1</th>\n",
       "      <td>1</td>\n",
       "      <td>1</td>\n",
       "      <td>TRANSFER</td>\n",
       "      <td>9839.64</td>\n",
       "      <td>C1231006815</td>\n",
       "      <td>170136.0</td>\n",
       "      <td>160296.36</td>\n",
       "      <td>M1979787155</td>\n",
       "      <td>0.0</td>\n",
       "      <td>0.0</td>\n",
       "      <td>4</td>\n",
       "    </tr>\n",
       "    <tr>\n",
       "      <th>2</th>\n",
       "      <td>2</td>\n",
       "      <td>1</td>\n",
       "      <td>TRANSFER</td>\n",
       "      <td>9839.64</td>\n",
       "      <td>C1231006815</td>\n",
       "      <td>170136.0</td>\n",
       "      <td>160296.36</td>\n",
       "      <td>M1979787155</td>\n",
       "      <td>0.0</td>\n",
       "      <td>1.0</td>\n",
       "      <td>1</td>\n",
       "    </tr>\n",
       "  </tbody>\n",
       "</table>\n",
       "</div>"
      ],
      "text/plain": [
       "   index  step      type   amount     nameOrig  oldbalanceOrig  \\\n",
       "0      0     1  CASH_OUT  9839.64  C1231006815        170136.0   \n",
       "1      1     1  TRANSFER  9839.64  C1231006815        170136.0   \n",
       "2      2     1  TRANSFER  9839.64  C1231006815        170136.0   \n",
       "\n",
       "   newbalanceOrig     nameDest  oldbalanceDest  newbalanceDest  size  \n",
       "0       160296.36  M1979787155             0.0             0.0     1  \n",
       "1       160296.36  M1979787155             0.0             0.0     4  \n",
       "2       160296.36  M1979787155             0.0             1.0     1  "
      ]
     },
     "execution_count": 195,
     "metadata": {},
     "output_type": "execute_result"
    }
   ],
   "source": [
    "group "
   ]
  },
  {
   "cell_type": "code",
   "execution_count": 199,
   "id": "5c401745",
   "metadata": {},
   "outputs": [],
   "source": [
    "group2 = group.loc[:,group.columns!=\"type\"]"
   ]
  },
  {
   "cell_type": "code",
   "execution_count": 200,
   "id": "0647edf6",
   "metadata": {},
   "outputs": [
    {
     "data": {
      "text/html": [
       "<div>\n",
       "<style scoped>\n",
       "    .dataframe tbody tr th:only-of-type {\n",
       "        vertical-align: middle;\n",
       "    }\n",
       "\n",
       "    .dataframe tbody tr th {\n",
       "        vertical-align: top;\n",
       "    }\n",
       "\n",
       "    .dataframe thead th {\n",
       "        text-align: right;\n",
       "    }\n",
       "</style>\n",
       "<table border=\"1\" class=\"dataframe\">\n",
       "  <thead>\n",
       "    <tr style=\"text-align: right;\">\n",
       "      <th></th>\n",
       "      <th>index</th>\n",
       "      <th>step</th>\n",
       "      <th>amount</th>\n",
       "      <th>nameOrig</th>\n",
       "      <th>oldbalanceOrig</th>\n",
       "      <th>newbalanceOrig</th>\n",
       "      <th>nameDest</th>\n",
       "      <th>oldbalanceDest</th>\n",
       "      <th>newbalanceDest</th>\n",
       "      <th>size</th>\n",
       "    </tr>\n",
       "  </thead>\n",
       "  <tbody>\n",
       "    <tr>\n",
       "      <th>0</th>\n",
       "      <td>0</td>\n",
       "      <td>1</td>\n",
       "      <td>9839.64</td>\n",
       "      <td>C1231006815</td>\n",
       "      <td>170136.0</td>\n",
       "      <td>160296.36</td>\n",
       "      <td>M1979787155</td>\n",
       "      <td>0.0</td>\n",
       "      <td>0.0</td>\n",
       "      <td>1</td>\n",
       "    </tr>\n",
       "    <tr>\n",
       "      <th>1</th>\n",
       "      <td>1</td>\n",
       "      <td>1</td>\n",
       "      <td>9839.64</td>\n",
       "      <td>C1231006815</td>\n",
       "      <td>170136.0</td>\n",
       "      <td>160296.36</td>\n",
       "      <td>M1979787155</td>\n",
       "      <td>0.0</td>\n",
       "      <td>0.0</td>\n",
       "      <td>4</td>\n",
       "    </tr>\n",
       "    <tr>\n",
       "      <th>2</th>\n",
       "      <td>2</td>\n",
       "      <td>1</td>\n",
       "      <td>9839.64</td>\n",
       "      <td>C1231006815</td>\n",
       "      <td>170136.0</td>\n",
       "      <td>160296.36</td>\n",
       "      <td>M1979787155</td>\n",
       "      <td>0.0</td>\n",
       "      <td>1.0</td>\n",
       "      <td>1</td>\n",
       "    </tr>\n",
       "  </tbody>\n",
       "</table>\n",
       "</div>"
      ],
      "text/plain": [
       "   index  step   amount     nameOrig  oldbalanceOrig  newbalanceOrig  \\\n",
       "0      0     1  9839.64  C1231006815        170136.0       160296.36   \n",
       "1      1     1  9839.64  C1231006815        170136.0       160296.36   \n",
       "2      2     1  9839.64  C1231006815        170136.0       160296.36   \n",
       "\n",
       "      nameDest  oldbalanceDest  newbalanceDest  size  \n",
       "0  M1979787155             0.0             0.0     1  \n",
       "1  M1979787155             0.0             0.0     4  \n",
       "2  M1979787155             0.0             1.0     1  "
      ]
     },
     "execution_count": 200,
     "metadata": {},
     "output_type": "execute_result"
    }
   ],
   "source": [
    "group2"
   ]
  },
  {
   "cell_type": "code",
   "execution_count": 194,
   "id": "61f5b4aa",
   "metadata": {},
   "outputs": [
    {
     "data": {
      "text/plain": [
       "array([False, False, False, False, False, False, False, False, False,\n",
       "       False,  True])"
      ]
     },
     "execution_count": 194,
     "metadata": {},
     "output_type": "execute_result"
    }
   ],
   "source": [
    "group.columns.isin(['size'])"
   ]
  },
  {
   "cell_type": "code",
   "execution_count": 206,
   "id": "f703916c",
   "metadata": {},
   "outputs": [
    {
     "data": {
      "text/plain": [
       "0    False\n",
       "Name: size, dtype: bool"
      ]
     },
     "execution_count": 206,
     "metadata": {},
     "output_type": "execute_result"
    }
   ],
   "source": [
    "pd.merge(group,data)['size']<3"
   ]
  },
  {
   "cell_type": "code",
   "execution_count": null,
   "id": "1bdca9f3",
   "metadata": {},
   "outputs": [],
   "source": []
  },
  {
   "cell_type": "code",
   "execution_count": 155,
   "id": "49625181",
   "metadata": {},
   "outputs": [],
   "source": [
    "file_obj.close()"
   ]
  },
  {
   "cell_type": "code",
   "execution_count": 124,
   "id": "69d587d0",
   "metadata": {},
   "outputs": [],
   "source": [
    "json = {\"step\":1,\"type\":\"TRANSFER\",\"amount\":9839.64,\"nameOrig\":\"C1231006815\",\"oldbalanceOrig\":170136.0,\"newbalanceOrig\":160296.36,\"nameDest\":\"M1979787155\",\"oldbalanceDest\":0.0,\"newbalanceDest\":0.0}"
   ]
  },
  {
   "cell_type": "code",
   "execution_count": 128,
   "id": "b429acf8",
   "metadata": {},
   "outputs": [],
   "source": [
    "temp = pd.DataFrame(json, index=[0])"
   ]
  },
  {
   "cell_type": "code",
   "execution_count": 129,
   "id": "ea8dc6f0",
   "metadata": {},
   "outputs": [
    {
     "data": {
      "text/html": [
       "<div>\n",
       "<style scoped>\n",
       "    .dataframe tbody tr th:only-of-type {\n",
       "        vertical-align: middle;\n",
       "    }\n",
       "\n",
       "    .dataframe tbody tr th {\n",
       "        vertical-align: top;\n",
       "    }\n",
       "\n",
       "    .dataframe thead th {\n",
       "        text-align: right;\n",
       "    }\n",
       "</style>\n",
       "<table border=\"1\" class=\"dataframe\">\n",
       "  <thead>\n",
       "    <tr style=\"text-align: right;\">\n",
       "      <th></th>\n",
       "      <th>step</th>\n",
       "      <th>type</th>\n",
       "      <th>amount</th>\n",
       "      <th>nameOrig</th>\n",
       "      <th>oldbalanceOrig</th>\n",
       "      <th>newbalanceOrig</th>\n",
       "      <th>nameDest</th>\n",
       "      <th>oldbalanceDest</th>\n",
       "      <th>newbalanceDest</th>\n",
       "    </tr>\n",
       "  </thead>\n",
       "  <tbody>\n",
       "    <tr>\n",
       "      <th>0</th>\n",
       "      <td>1</td>\n",
       "      <td>TRANSFER</td>\n",
       "      <td>9839.64</td>\n",
       "      <td>C1231006815</td>\n",
       "      <td>170136.0</td>\n",
       "      <td>160296.36</td>\n",
       "      <td>M1979787155</td>\n",
       "      <td>0.0</td>\n",
       "      <td>0.0</td>\n",
       "    </tr>\n",
       "  </tbody>\n",
       "</table>\n",
       "</div>"
      ],
      "text/plain": [
       "   step      type   amount     nameOrig  oldbalanceOrig  newbalanceOrig  \\\n",
       "0     1  TRANSFER  9839.64  C1231006815        170136.0       160296.36   \n",
       "\n",
       "      nameDest  oldbalanceDest  newbalanceDest  \n",
       "0  M1979787155             0.0             0.0  "
      ]
     },
     "execution_count": 129,
     "metadata": {},
     "output_type": "execute_result"
    }
   ],
   "source": [
    "temp"
   ]
  },
  {
   "cell_type": "code",
   "execution_count": 130,
   "id": "94304a89",
   "metadata": {},
   "outputs": [],
   "source": [
    "temp['isFraud']= str('[False]')"
   ]
  },
  {
   "cell_type": "code",
   "execution_count": 131,
   "id": "4c36fd5e",
   "metadata": {},
   "outputs": [
    {
     "data": {
      "text/html": [
       "<div>\n",
       "<style scoped>\n",
       "    .dataframe tbody tr th:only-of-type {\n",
       "        vertical-align: middle;\n",
       "    }\n",
       "\n",
       "    .dataframe tbody tr th {\n",
       "        vertical-align: top;\n",
       "    }\n",
       "\n",
       "    .dataframe thead th {\n",
       "        text-align: right;\n",
       "    }\n",
       "</style>\n",
       "<table border=\"1\" class=\"dataframe\">\n",
       "  <thead>\n",
       "    <tr style=\"text-align: right;\">\n",
       "      <th></th>\n",
       "      <th>step</th>\n",
       "      <th>type</th>\n",
       "      <th>amount</th>\n",
       "      <th>nameOrig</th>\n",
       "      <th>oldbalanceOrig</th>\n",
       "      <th>newbalanceOrig</th>\n",
       "      <th>nameDest</th>\n",
       "      <th>oldbalanceDest</th>\n",
       "      <th>newbalanceDest</th>\n",
       "      <th>isFraud</th>\n",
       "    </tr>\n",
       "  </thead>\n",
       "  <tbody>\n",
       "    <tr>\n",
       "      <th>0</th>\n",
       "      <td>1</td>\n",
       "      <td>TRANSFER</td>\n",
       "      <td>9839.64</td>\n",
       "      <td>C1231006815</td>\n",
       "      <td>170136.0</td>\n",
       "      <td>160296.36</td>\n",
       "      <td>M1979787155</td>\n",
       "      <td>0.0</td>\n",
       "      <td>0.0</td>\n",
       "      <td>[False]</td>\n",
       "    </tr>\n",
       "  </tbody>\n",
       "</table>\n",
       "</div>"
      ],
      "text/plain": [
       "   step      type   amount     nameOrig  oldbalanceOrig  newbalanceOrig  \\\n",
       "0     1  TRANSFER  9839.64  C1231006815        170136.0       160296.36   \n",
       "\n",
       "      nameDest  oldbalanceDest  newbalanceDest  isFraud  \n",
       "0  M1979787155             0.0             0.0  [False]  "
      ]
     },
     "execution_count": 131,
     "metadata": {},
     "output_type": "execute_result"
    }
   ],
   "source": [
    "temp"
   ]
  },
  {
   "cell_type": "code",
   "execution_count": 122,
   "id": "c56fab53",
   "metadata": {},
   "outputs": [],
   "source": [
    "import pandas as pd\n",
    "import requests\n",
    "json_ = {\"step\":1,\"type\":\"TRANSFER\",\"amount\":9839.64,\"nameOrig\":\"C1231006815\",\"oldbalanceOrig\":170136.0,\"newbalanceOrig\":160296.36,\"nameDest\":\"M1979787155\",\"oldbalanceDest\":0.0,\"newbalanceDest\":0.0},{\"step\":1,\"type\":\"PAYMENT\",\"amount\":9839.64,\"nameOrig\":\"C1231006815\",\"oldbalanceOrig\":170136.0,\"newbalanceOrig\":160296.36,\"nameDest\":\"M1979787155\",\"oldbalanceDest\":0.0,\"newbalanceDest\":0.0},{\"step\":1,\"type\":\"CASH_OUT\",\"amount\":9839.64,\"nameOrig\":\"C1231006815\",\"oldbalanceOrig\":170136.0,\"newbalanceOrig\":160296.36,\"nameDest\":\"M1979787155\",\"oldbalanceDest\":0.0,\"newbalanceDest\":0.0}\n",
    "            \n",
    "#query = pd.DataFrame.from_dict(json)\n",
    "#query = pd.DataFrame.from_dict(json,orient='columns')"
   ]
  },
  {
   "cell_type": "code",
   "execution_count": 123,
   "id": "71c6c227",
   "metadata": {},
   "outputs": [
    {
     "data": {
      "text/plain": [
       "[{'step': 1,\n",
       "  'type': 'TRANSFER',\n",
       "  'amount': 9839.64,\n",
       "  'nameOrig': 'C1231006815',\n",
       "  'oldbalanceOrig': 170136.0,\n",
       "  'newbalanceOrig': 160296.36,\n",
       "  'nameDest': 'M1979787155',\n",
       "  'oldbalanceDest': 0.0,\n",
       "  'newbalanceDest': 0.0},\n",
       " {'step': 1,\n",
       "  'type': 'PAYMENT',\n",
       "  'amount': 9839.64,\n",
       "  'nameOrig': 'C1231006815',\n",
       "  'oldbalanceOrig': 170136.0,\n",
       "  'newbalanceOrig': 160296.36,\n",
       "  'nameDest': 'M1979787155',\n",
       "  'oldbalanceDest': 0.0,\n",
       "  'newbalanceDest': 0.0},\n",
       " {'step': 1,\n",
       "  'type': 'CASH_OUT',\n",
       "  'amount': 9839.64,\n",
       "  'nameOrig': 'C1231006815',\n",
       "  'oldbalanceOrig': 170136.0,\n",
       "  'newbalanceOrig': 160296.36,\n",
       "  'nameDest': 'M1979787155',\n",
       "  'oldbalanceDest': 0.0,\n",
       "  'newbalanceDest': 0.0}]"
      ]
     },
     "execution_count": 123,
     "metadata": {},
     "output_type": "execute_result"
    }
   ],
   "source": [
    "list(json_)"
   ]
  },
  {
   "cell_type": "code",
   "execution_count": 108,
   "id": "45818934",
   "metadata": {},
   "outputs": [
    {
     "data": {
      "text/html": [
       "<div>\n",
       "<style scoped>\n",
       "    .dataframe tbody tr th:only-of-type {\n",
       "        vertical-align: middle;\n",
       "    }\n",
       "\n",
       "    .dataframe tbody tr th {\n",
       "        vertical-align: top;\n",
       "    }\n",
       "\n",
       "    .dataframe thead th {\n",
       "        text-align: right;\n",
       "    }\n",
       "</style>\n",
       "<table border=\"1\" class=\"dataframe\">\n",
       "  <thead>\n",
       "    <tr style=\"text-align: right;\">\n",
       "      <th></th>\n",
       "      <th>step</th>\n",
       "      <th>type</th>\n",
       "      <th>amount</th>\n",
       "      <th>nameOrig</th>\n",
       "      <th>oldbalanceOrig</th>\n",
       "      <th>newbalanceOrig</th>\n",
       "      <th>nameDest</th>\n",
       "      <th>oldbalanceDest</th>\n",
       "      <th>newbalanceDest</th>\n",
       "    </tr>\n",
       "  </thead>\n",
       "  <tbody>\n",
       "    <tr>\n",
       "      <th>0</th>\n",
       "      <td>1</td>\n",
       "      <td>TRANSFER</td>\n",
       "      <td>9839.64</td>\n",
       "      <td>C1231006815</td>\n",
       "      <td>170136.0</td>\n",
       "      <td>160296.36</td>\n",
       "      <td>M1979787155</td>\n",
       "      <td>0.0</td>\n",
       "      <td>0.0</td>\n",
       "    </tr>\n",
       "    <tr>\n",
       "      <th>1</th>\n",
       "      <td>1</td>\n",
       "      <td>PAYMENT</td>\n",
       "      <td>9839.64</td>\n",
       "      <td>C1231006815</td>\n",
       "      <td>170136.0</td>\n",
       "      <td>160296.36</td>\n",
       "      <td>M1979787155</td>\n",
       "      <td>0.0</td>\n",
       "      <td>0.0</td>\n",
       "    </tr>\n",
       "    <tr>\n",
       "      <th>2</th>\n",
       "      <td>1</td>\n",
       "      <td>CASH_OUT</td>\n",
       "      <td>9839.64</td>\n",
       "      <td>C1231006815</td>\n",
       "      <td>170136.0</td>\n",
       "      <td>160296.36</td>\n",
       "      <td>M1979787155</td>\n",
       "      <td>0.0</td>\n",
       "      <td>0.0</td>\n",
       "    </tr>\n",
       "  </tbody>\n",
       "</table>\n",
       "</div>"
      ],
      "text/plain": [
       "   step      type   amount     nameOrig  oldbalanceOrig  newbalanceOrig  \\\n",
       "0     1  TRANSFER  9839.64  C1231006815        170136.0       160296.36   \n",
       "1     1   PAYMENT  9839.64  C1231006815        170136.0       160296.36   \n",
       "2     1  CASH_OUT  9839.64  C1231006815        170136.0       160296.36   \n",
       "\n",
       "      nameDest  oldbalanceDest  newbalanceDest  \n",
       "0  M1979787155             0.0             0.0  \n",
       "1  M1979787155             0.0             0.0  \n",
       "2  M1979787155             0.0             0.0  "
      ]
     },
     "execution_count": 108,
     "metadata": {},
     "output_type": "execute_result"
    }
   ],
   "source": [
    "pd.DataFrame(list(json_))"
   ]
  },
  {
   "cell_type": "code",
   "execution_count": 90,
   "id": "4b29cf1f",
   "metadata": {},
   "outputs": [],
   "source": [
    "r1 = requests.post('http://127.0.0.1:9999/is-fraud', json = json_)"
   ]
  },
  {
   "cell_type": "code",
   "execution_count": 91,
   "id": "4ae9610a",
   "metadata": {},
   "outputs": [
    {
     "data": {
      "text/plain": [
       "{'isFraud': '[\"[False]\", \"[False]\"]'}"
      ]
     },
     "execution_count": 91,
     "metadata": {},
     "output_type": "execute_result"
    }
   ],
   "source": [
    "r1.json()"
   ]
  },
  {
   "cell_type": "code",
   "execution_count": 26,
   "id": "b7ba1370",
   "metadata": {},
   "outputs": [
    {
     "name": "stdout",
     "output_type": "stream",
     "text": [
      "3\n"
     ]
    }
   ],
   "source": [
    "len_ = len(json_)\n",
    "print(len_)"
   ]
  },
  {
   "cell_type": "code",
   "execution_count": 27,
   "id": "705ca8e5",
   "metadata": {},
   "outputs": [
    {
     "name": "stdout",
     "output_type": "stream",
     "text": [
      "yes\n",
      "no\n",
      "yes\n",
      "no\n",
      "yes\n"
     ]
    }
   ],
   "source": [
    "\n",
    "for i in range(0,5):\n",
    "    if i%2==0:\n",
    "        print('yes')\n",
    "    else:\n",
    "        print('no')\n",
    "        "
   ]
  },
  {
   "cell_type": "code",
   "execution_count": 28,
   "id": "90e5715b",
   "metadata": {},
   "outputs": [
    {
     "data": {
      "text/html": [
       "<div>\n",
       "<style scoped>\n",
       "    .dataframe tbody tr th:only-of-type {\n",
       "        vertical-align: middle;\n",
       "    }\n",
       "\n",
       "    .dataframe tbody tr th {\n",
       "        vertical-align: top;\n",
       "    }\n",
       "\n",
       "    .dataframe thead th {\n",
       "        text-align: right;\n",
       "    }\n",
       "</style>\n",
       "<table border=\"1\" class=\"dataframe\">\n",
       "  <thead>\n",
       "    <tr style=\"text-align: right;\">\n",
       "      <th></th>\n",
       "      <th>step</th>\n",
       "      <th>type</th>\n",
       "      <th>amount</th>\n",
       "      <th>nameOrig</th>\n",
       "      <th>oldbalanceOrig</th>\n",
       "      <th>newbalanceOrig</th>\n",
       "      <th>nameDest</th>\n",
       "      <th>oldbalanceDest</th>\n",
       "      <th>newbalanceDest</th>\n",
       "    </tr>\n",
       "  </thead>\n",
       "  <tbody>\n",
       "    <tr>\n",
       "      <th>0</th>\n",
       "      <td>1</td>\n",
       "      <td>TRANSFER</td>\n",
       "      <td>9839.64</td>\n",
       "      <td>C1231006815</td>\n",
       "      <td>170136.0</td>\n",
       "      <td>160296.36</td>\n",
       "      <td>M1979787155</td>\n",
       "      <td>0.0</td>\n",
       "      <td>0.0</td>\n",
       "    </tr>\n",
       "    <tr>\n",
       "      <th>1</th>\n",
       "      <td>1</td>\n",
       "      <td>PAYMENT</td>\n",
       "      <td>9839.64</td>\n",
       "      <td>C1231006815</td>\n",
       "      <td>170136.0</td>\n",
       "      <td>160296.36</td>\n",
       "      <td>M1979787155</td>\n",
       "      <td>0.0</td>\n",
       "      <td>0.0</td>\n",
       "    </tr>\n",
       "    <tr>\n",
       "      <th>2</th>\n",
       "      <td>1</td>\n",
       "      <td>CASH_OUT</td>\n",
       "      <td>9839.64</td>\n",
       "      <td>C1231006815</td>\n",
       "      <td>170136.0</td>\n",
       "      <td>160296.36</td>\n",
       "      <td>M1979787155</td>\n",
       "      <td>0.0</td>\n",
       "      <td>0.0</td>\n",
       "    </tr>\n",
       "  </tbody>\n",
       "</table>\n",
       "</div>"
      ],
      "text/plain": [
       "   step      type   amount     nameOrig  oldbalanceOrig  newbalanceOrig  \\\n",
       "0     1  TRANSFER  9839.64  C1231006815        170136.0       160296.36   \n",
       "1     1   PAYMENT  9839.64  C1231006815        170136.0       160296.36   \n",
       "2     1  CASH_OUT  9839.64  C1231006815        170136.0       160296.36   \n",
       "\n",
       "      nameDest  oldbalanceDest  newbalanceDest  \n",
       "0  M1979787155             0.0             0.0  \n",
       "1  M1979787155             0.0             0.0  \n",
       "2  M1979787155             0.0             0.0  "
      ]
     },
     "execution_count": 28,
     "metadata": {},
     "output_type": "execute_result"
    }
   ],
   "source": [
    "import numpy as np\n",
    "query = pd.DataFrame(json_, index=np.arange(len_))\n",
    "query"
   ]
  },
  {
   "cell_type": "code",
   "execution_count": 34,
   "id": "8f8b46a3",
   "metadata": {},
   "outputs": [
    {
     "data": {
      "text/plain": [
       "step                        1\n",
       "type                 TRANSFER\n",
       "amount                9839.64\n",
       "nameOrig          C1231006815\n",
       "oldbalanceOrig       170136.0\n",
       "newbalanceOrig      160296.36\n",
       "nameDest          M1979787155\n",
       "oldbalanceDest            0.0\n",
       "newbalanceDest            0.0\n",
       "Name: 0, dtype: object"
      ]
     },
     "execution_count": 34,
     "metadata": {},
     "output_type": "execute_result"
    }
   ],
   "source": [
    "query.iloc[0]"
   ]
  },
  {
   "cell_type": "code",
   "execution_count": 29,
   "id": "e66a6de3",
   "metadata": {},
   "outputs": [
    {
     "data": {
      "text/html": [
       "<div>\n",
       "<style scoped>\n",
       "    .dataframe tbody tr th:only-of-type {\n",
       "        vertical-align: middle;\n",
       "    }\n",
       "\n",
       "    .dataframe tbody tr th {\n",
       "        vertical-align: top;\n",
       "    }\n",
       "\n",
       "    .dataframe thead th {\n",
       "        text-align: right;\n",
       "    }\n",
       "</style>\n",
       "<table border=\"1\" class=\"dataframe\">\n",
       "  <thead>\n",
       "    <tr style=\"text-align: right;\">\n",
       "      <th></th>\n",
       "      <th>step</th>\n",
       "      <th>type</th>\n",
       "      <th>amount</th>\n",
       "      <th>nameOrig</th>\n",
       "      <th>oldbalanceOrig</th>\n",
       "      <th>newbalanceOrig</th>\n",
       "      <th>nameDest</th>\n",
       "      <th>oldbalanceDest</th>\n",
       "      <th>newbalanceDest</th>\n",
       "    </tr>\n",
       "  </thead>\n",
       "  <tbody>\n",
       "    <tr>\n",
       "      <th>0</th>\n",
       "      <td>1</td>\n",
       "      <td>TRANSFER</td>\n",
       "      <td>9839.64</td>\n",
       "      <td>C1231006815</td>\n",
       "      <td>170136.0</td>\n",
       "      <td>160296.36</td>\n",
       "      <td>M1979787155</td>\n",
       "      <td>0.0</td>\n",
       "      <td>0.0</td>\n",
       "    </tr>\n",
       "  </tbody>\n",
       "</table>\n",
       "</div>"
      ],
      "text/plain": [
       "   step      type   amount     nameOrig  oldbalanceOrig  newbalanceOrig  \\\n",
       "0     1  TRANSFER  9839.64  C1231006815        170136.0       160296.36   \n",
       "\n",
       "      nameDest  oldbalanceDest  newbalanceDest  \n",
       "0  M1979787155             0.0             0.0  "
      ]
     },
     "execution_count": 29,
     "metadata": {},
     "output_type": "execute_result"
    }
   ],
   "source": [
    "temp = query[0:1]\n",
    "temp"
   ]
  },
  {
   "cell_type": "code",
   "execution_count": 30,
   "id": "a3668d85",
   "metadata": {},
   "outputs": [
    {
     "data": {
      "text/html": [
       "<div>\n",
       "<style scoped>\n",
       "    .dataframe tbody tr th:only-of-type {\n",
       "        vertical-align: middle;\n",
       "    }\n",
       "\n",
       "    .dataframe tbody tr th {\n",
       "        vertical-align: top;\n",
       "    }\n",
       "\n",
       "    .dataframe thead th {\n",
       "        text-align: right;\n",
       "    }\n",
       "</style>\n",
       "<table border=\"1\" class=\"dataframe\">\n",
       "  <thead>\n",
       "    <tr style=\"text-align: right;\">\n",
       "      <th></th>\n",
       "      <th>isFraud</th>\n",
       "    </tr>\n",
       "  </thead>\n",
       "  <tbody>\n",
       "    <tr>\n",
       "      <th>0</th>\n",
       "      <td>False</td>\n",
       "    </tr>\n",
       "    <tr>\n",
       "      <th>1</th>\n",
       "      <td>False</td>\n",
       "    </tr>\n",
       "    <tr>\n",
       "      <th>2</th>\n",
       "      <td>False</td>\n",
       "    </tr>\n",
       "  </tbody>\n",
       "</table>\n",
       "</div>"
      ],
      "text/plain": [
       "  isFraud\n",
       "0   False\n",
       "1   False\n",
       "2   False"
      ]
     },
     "execution_count": 30,
     "metadata": {},
     "output_type": "execute_result"
    }
   ],
   "source": [
    "results = list([\"False\", \"False\", \"False\"])\n",
    "results = pd.DataFrame(results, columns=['isFraud'])\n",
    "results"
   ]
  },
  {
   "cell_type": "code",
   "execution_count": 28,
   "id": "5a55795c",
   "metadata": {},
   "outputs": [
    {
     "data": {
      "text/html": [
       "<div>\n",
       "<style scoped>\n",
       "    .dataframe tbody tr th:only-of-type {\n",
       "        vertical-align: middle;\n",
       "    }\n",
       "\n",
       "    .dataframe tbody tr th {\n",
       "        vertical-align: top;\n",
       "    }\n",
       "\n",
       "    .dataframe thead th {\n",
       "        text-align: right;\n",
       "    }\n",
       "</style>\n",
       "<table border=\"1\" class=\"dataframe\">\n",
       "  <thead>\n",
       "    <tr style=\"text-align: right;\">\n",
       "      <th></th>\n",
       "      <th>step</th>\n",
       "      <th>type</th>\n",
       "      <th>amount</th>\n",
       "      <th>nameOrig</th>\n",
       "      <th>oldbalanceOrig</th>\n",
       "      <th>newbalanceOrig</th>\n",
       "      <th>nameDest</th>\n",
       "      <th>oldbalanceDest</th>\n",
       "      <th>newbalanceDest</th>\n",
       "      <th>isFraud</th>\n",
       "    </tr>\n",
       "  </thead>\n",
       "  <tbody>\n",
       "    <tr>\n",
       "      <th>0</th>\n",
       "      <td>1</td>\n",
       "      <td>TRANSFER</td>\n",
       "      <td>9839.64</td>\n",
       "      <td>C1231006815</td>\n",
       "      <td>170136.0</td>\n",
       "      <td>160296.36</td>\n",
       "      <td>M1979787155</td>\n",
       "      <td>0.0</td>\n",
       "      <td>0.0</td>\n",
       "      <td>False</td>\n",
       "    </tr>\n",
       "    <tr>\n",
       "      <th>1</th>\n",
       "      <td>1</td>\n",
       "      <td>PAYMENT</td>\n",
       "      <td>9839.64</td>\n",
       "      <td>C1231006815</td>\n",
       "      <td>170136.0</td>\n",
       "      <td>160296.36</td>\n",
       "      <td>M1979787155</td>\n",
       "      <td>0.0</td>\n",
       "      <td>0.0</td>\n",
       "      <td>False</td>\n",
       "    </tr>\n",
       "    <tr>\n",
       "      <th>2</th>\n",
       "      <td>1</td>\n",
       "      <td>CASH_IN</td>\n",
       "      <td>9839.64</td>\n",
       "      <td>C1231006815</td>\n",
       "      <td>170136.0</td>\n",
       "      <td>160296.36</td>\n",
       "      <td>M1979787155</td>\n",
       "      <td>0.0</td>\n",
       "      <td>0.0</td>\n",
       "      <td>False</td>\n",
       "    </tr>\n",
       "  </tbody>\n",
       "</table>\n",
       "</div>"
      ],
      "text/plain": [
       "   step      type   amount     nameOrig  oldbalanceOrig  newbalanceOrig  \\\n",
       "0     1  TRANSFER  9839.64  C1231006815        170136.0       160296.36   \n",
       "1     1   PAYMENT  9839.64  C1231006815        170136.0       160296.36   \n",
       "2     1   CASH_IN  9839.64  C1231006815        170136.0       160296.36   \n",
       "\n",
       "      nameDest  oldbalanceDest  newbalanceDest isFraud  \n",
       "0  M1979787155             0.0             0.0   False  \n",
       "1  M1979787155             0.0             0.0   False  \n",
       "2  M1979787155             0.0             0.0   False  "
      ]
     },
     "execution_count": 28,
     "metadata": {},
     "output_type": "execute_result"
    }
   ],
   "source": [
    "# merger = pd.concat([query, results], axis=1)\n",
    "merger"
   ]
  },
  {
   "cell_type": "code",
   "execution_count": 49,
   "id": "8d753c52",
   "metadata": {},
   "outputs": [
    {
     "name": "stdout",
     "output_type": "stream",
     "text": [
      "Model loaded\n",
      "Model columns loaded\n"
     ]
    }
   ],
   "source": [
    "import joblib\n",
    "\n",
    "clf = joblib.load(\"model.pkl\") # Load \"model.pkl\"\n",
    "print ('Model loaded')\n",
    "model_columns = joblib.load(\"model_columns.pkl\") # Load \"model_columns.pkl\"\n",
    "print ('Model columns loaded')"
   ]
  },
  {
   "cell_type": "code",
   "execution_count": 53,
   "id": "504298fe",
   "metadata": {},
   "outputs": [
    {
     "name": "stdout",
     "output_type": "stream",
     "text": [
      "if cond\n",
      "else cond\n",
      "if cond\n"
     ]
    }
   ],
   "source": [
    "\n",
    "input_ = pd.DataFrame(json_, index=np.arange(len_))\n",
    "query = input_.drop(['nameOrig', 'nameDest'], axis = 1)\n",
    "\n",
    "query['type'] = np.where((query.type == 'TRANSFER'),int(0),query['type'])\n",
    "query['type'] = np.where((query.type == 'CASH_OUT'),int(1),query['type'])\n",
    "\n",
    "query.loc[(query.oldbalanceDest == 0) & (query.newbalanceDest == 0) & (query.amount != 0), ['oldbalanceDest', 'newbalanceDest']] = -1\n",
    "query.loc[(query.oldbalanceOrig == 0) & (query.newbalanceOrig == 0) & (query.amount != 0), ['oldbalanceOrig', 'newbalanceOrig']] = np.nan\n",
    "query['errorbalanceOrig'] = query.newbalanceOrig + query.amount - query.oldbalanceOrig\n",
    "query['errorbalanceDest'] = query.oldbalanceDest + query.amount - query.newbalanceDest\n",
    "\n",
    "df = pd.DataFrame([])\n",
    "result = np.array([])\n",
    "\n",
    "for i in range(0,len_):\n",
    "    \n",
    "    if ((query.type.iloc[i] == int(0)) | (query.type.iloc[i] == int(1))):\n",
    "        prediction = list(clf.predict(query[i:i+1]))\n",
    "        prediction = list(bool(x) for x in prediction)\n",
    "        result = np.append(result,str(prediction)) \n",
    "        \n",
    "    else:\n",
    "        result = np.append(result,str('[False]'))\n",
    "        \n",
    "    \n",
    "    results = pd.DataFrame(result, columns=['isFraud'])\n",
    "#     df = pd.concat([input_, results],axis=1)\n",
    "#     df.to_csv('file_name.csv', index=False)    \n",
    "\n",
    "# result = result.tolist()\n",
    "# json_format = json.dumps(result)"
   ]
  },
  {
   "cell_type": "code",
   "execution_count": 69,
   "id": "2da981d2",
   "metadata": {},
   "outputs": [
    {
     "data": {
      "text/plain": [
       "array([], dtype=float64)"
      ]
     },
     "execution_count": 69,
     "metadata": {},
     "output_type": "execute_result"
    }
   ],
   "source": [
    "result = np.array([])\n",
    "result"
   ]
  },
  {
   "cell_type": "code",
   "execution_count": 76,
   "id": "b0727c98",
   "metadata": {},
   "outputs": [],
   "source": [
    "prediction = list(clf.predict(query[0:1]))\n",
    "prediction = list(bool(x) for x in prediction)"
   ]
  },
  {
   "cell_type": "code",
   "execution_count": 79,
   "id": "f9827c90",
   "metadata": {},
   "outputs": [
    {
     "data": {
      "text/plain": [
       "array(['0.0', '0.0', '0.0', '0.0', '0.0', '[[False]]', '[False]'],\n",
       "      dtype='<U32')"
      ]
     },
     "execution_count": 79,
     "metadata": {},
     "output_type": "execute_result"
    }
   ],
   "source": [
    "result = np.append(result,str(prediction)) \n",
    "result"
   ]
  },
  {
   "cell_type": "code",
   "execution_count": 127,
   "id": "8afe1786",
   "metadata": {},
   "outputs": [],
   "source": [
    "result= str('[False]')"
   ]
  },
  {
   "cell_type": "code",
   "execution_count": null,
   "id": "a993070d",
   "metadata": {},
   "outputs": [],
   "source": []
  }
 ],
 "metadata": {
  "kernelspec": {
   "display_name": "Python 3",
   "language": "python",
   "name": "python3"
  },
  "language_info": {
   "codemirror_mode": {
    "name": "ipython",
    "version": 3
   },
   "file_extension": ".py",
   "mimetype": "text/x-python",
   "name": "python",
   "nbconvert_exporter": "python",
   "pygments_lexer": "ipython3",
   "version": "3.7.3"
  }
 },
 "nbformat": 4,
 "nbformat_minor": 5
}
